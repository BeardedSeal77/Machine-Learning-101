{
 "cells": [
  {
   "cell_type": "markdown",
   "id": "baa00905",
   "metadata": {},
   "source": [
    "### Import Libraries "
   ]
  },
  {
   "cell_type": "code",
   "execution_count": null,
   "id": "2c67cd50",
   "metadata": {},
   "outputs": [],
   "source": [
    "import numpy as np \n",
    "import pandas as pd\n",
    "from IPython.display import display\n",
    "import matplotlib.pyplot as plt\n",
    "import seaborn as sns\n",
    "\n",
    "\n",
    "from sklearn.tree import DecisionTreeRegressor \n",
    "\n",
    "\n",
    "from sklearn.model_selection import train_test_split\n",
    "from sklearn.metrics import mean_absolute_error, mean_squared_error"
   ]
  },
  {
   "cell_type": "markdown",
   "id": "06670054",
   "metadata": {},
   "source": [
    "### Load Data"
   ]
  },
  {
   "cell_type": "code",
   "execution_count": null,
   "id": "33971b89",
   "metadata": {},
   "outputs": [],
   "source": [
    "df = pd.read_csv('____')"
   ]
  },
  {
   "cell_type": "markdown",
   "id": "0c27c562",
   "metadata": {},
   "source": [
    "### Data Inspection\n",
    "\n",
    "display first few rows of data frame"
   ]
  },
  {
   "cell_type": "code",
   "execution_count": null,
   "id": "675fce58",
   "metadata": {},
   "outputs": [],
   "source": [
    "display(df.head())"
   ]
  },
  {
   "cell_type": "markdown",
   "id": "dec9c31a",
   "metadata": {},
   "source": [
    "### View Descriptive Statistics"
   ]
  },
  {
   "cell_type": "code",
   "execution_count": null,
   "id": "56862184",
   "metadata": {},
   "outputs": [],
   "source": [
    "display(df.describe()) \n",
    "# or \n",
    "display(df.describe().T)"
   ]
  },
  {
   "cell_type": "markdown",
   "id": "3ddfc096",
   "metadata": {},
   "source": [
    "### Define Features and Output Variables"
   ]
  },
  {
   "cell_type": "code",
   "execution_count": null,
   "id": "6abe7faf",
   "metadata": {},
   "outputs": [],
   "source": [
    "features = df.columns.tolist()\n",
    "display(features)"
   ]
  },
  {
   "cell_type": "markdown",
   "id": "494e4e9b",
   "metadata": {},
   "source": [
    "### Box Plot of Features"
   ]
  },
  {
   "cell_type": "code",
   "execution_count": null,
   "id": "5e55a924",
   "metadata": {},
   "outputs": [],
   "source": [
    "fig, ax = plt.subplots(figsize=(10, 6))\n",
    "boxplot = df[features].boxplot(vert = 0, ax=ax)  \n",
    "_ = ax.set_title(f'Box Plot: Raw Features')"
   ]
  },
  {
   "cell_type": "markdown",
   "id": "69835a61",
   "metadata": {},
   "source": [
    "### Histogram Plots of Data"
   ]
  },
  {
   "cell_type": "code",
   "execution_count": null,
   "id": "95fd5e44",
   "metadata": {},
   "outputs": [
    {
     "ename": "NameError",
     "evalue": "name 'df' is not defined",
     "output_type": "error",
     "traceback": [
      "\u001b[31m---------------------------------------------------------------------------\u001b[39m",
      "\u001b[31mNameError\u001b[39m                                 Traceback (most recent call last)",
      "\u001b[36mCell\u001b[39m\u001b[36m \u001b[39m\u001b[32mIn[1]\u001b[39m\u001b[32m, line 1\u001b[39m\n\u001b[32m----> \u001b[39m\u001b[32m1\u001b[39m all_vars = \u001b[43mdf\u001b[49m.columns\n\u001b[32m      2\u001b[39m output_var_name = \u001b[33m\"\u001b[39m\u001b[33mspecies\u001b[39m\u001b[33m\"\u001b[39m\n\u001b[32m      3\u001b[39m features = all_vars.drop(output_var_name).to_list()\n",
      "\u001b[31mNameError\u001b[39m: name 'df' is not defined"
     ]
    }
   ],
   "source": [
    "all_vars = df.columns\n",
    "output_var_name = \"species\"\n",
    "features = all_vars.drop(output_var_name).to_list()\n",
    "\n",
    "plt.figure(figsize=(5, 2))  # change size here based on requirements\n",
    "for i, col in enumerate(features):\n",
    "    plt.subplot(2, 2, i+1)\n",
    "    sns.histplot(df[col], kde=True)\n",
    "plt.tight_layout()\n",
    "plt.show()\n",
    "\n",
    "# OR \n",
    "plt.figure(figsize=(12, 10))\n",
    "for i, col in enumerate(df.columns):\n",
    "    plt.subplot(3, 2, i+1)\n",
    "    sns.histplot(df[col], kde=True)\n",
    "    plt.title(col)\n",
    "plt.tight_layout()\n",
    "plt.show()\n",
    "\n",
    "# OR Easier Version\n",
    "\n",
    "for x in df.columns:\n",
    "    sns.FacetGrid(df, aspect=1.2).map(sns.histplot,x, bins=50, kde=True).add_legend()"
   ]
  },
  {
   "cell_type": "markdown",
   "id": "4fa7faba",
   "metadata": {},
   "source": [
    "### Correlation Analysis"
   ]
  },
  {
   "cell_type": "markdown",
   "id": "cd0ea791",
   "metadata": {},
   "source": [
    "#### display the correlation"
   ]
  },
  {
   "cell_type": "code",
   "execution_count": null,
   "id": "01ef4408",
   "metadata": {},
   "outputs": [],
   "source": [
    "df.corr()"
   ]
  },
  {
   "cell_type": "markdown",
   "id": "9c32a7d0",
   "metadata": {},
   "source": [
    "## Model Evaluation"
   ]
  },
  {
   "cell_type": "markdown",
   "id": "bddfebe5",
   "metadata": {},
   "source": [
    "Split into training and testing data "
   ]
  },
  {
   "cell_type": "code",
   "execution_count": null,
   "id": "d4e96979",
   "metadata": {},
   "outputs": [],
   "source": [
    "X_train, X_test, y_train, y_test = train_test_split(X, y, test_size=0.2, random_state=90)"
   ]
  },
  {
   "cell_type": "markdown",
   "id": "e5358168",
   "metadata": {},
   "source": [
    "Regression Model: Deision Tree"
   ]
  },
  {
   "cell_type": "code",
   "execution_count": null,
   "id": "da47059d",
   "metadata": {},
   "outputs": [],
   "source": [
    "model_dtree  = DecisionTreeRegressor(random_state=0).fit(X, y) #Constructing, change random state based on the\n",
    "\n"
   ]
  },
  {
   "cell_type": "markdown",
   "id": "56d88046",
   "metadata": {},
   "source": [
    "Calculate predictions"
   ]
  },
  {
   "cell_type": "code",
   "execution_count": null,
   "id": "7a713764",
   "metadata": {},
   "outputs": [],
   "source": [
    "y_train_pred_dtree = model_dtree.predict(X_train)\n",
    "y_test_pred_dtree  = model_dtree.predict(X_test)\n"
   ]
  },
  {
   "cell_type": "markdown",
   "id": "92d54e95",
   "metadata": {},
   "source": [
    "### Testing Data Metrics \n",
    "\n",
    "Calculate an dprint rmse metric of TRAINING predictions"
   ]
  },
  {
   "cell_type": "code",
   "execution_count": null,
   "id": "ff07b509",
   "metadata": {},
   "outputs": [],
   "source": [
    "train_mse =  np.round(mean_squared_error(y_train, y_train_pred),3)\n",
    "train_rmse =  np.round(np.sqrt(train_mse),4)\n",
    "\n",
    "print('TRAINING DATA:')\n",
    "print(f'Polynomial Regression RMSE : {train_rmse}')"
   ]
  },
  {
   "cell_type": "markdown",
   "id": "a5a5beca",
   "metadata": {},
   "source": [
    "Calculate and print rmse of TESTING predictions"
   ]
  },
  {
   "cell_type": "code",
   "execution_count": null,
   "id": "87f81f5c",
   "metadata": {},
   "outputs": [],
   "source": [
    "test_mse =  np.round(mean_squared_error(y_test, y_test_pred),3)\n",
    "test_rmse =  np.round(np.sqrt(test_mse),4)\n",
    "\n",
    "print('TESTING DATA:')\n",
    "print(f'PolynomialRegression RMSE : {test_rmse}')"
   ]
  },
  {
   "cell_type": "code",
   "execution_count": null,
   "id": "75908360",
   "metadata": {},
   "outputs": [],
   "source": [
    "def pred_scatter_plot(actual, pred, title, figsize=(4, 4)):\n",
    "    fig, ax = plt.subplots(figsize=figsize)\n",
    "    plt.scatter(actual, pred, s=10)\n",
    "    plt.plot([0, actual.max()], [0, actual.max()], color = 'red', linestyle='dashed')\n",
    "    plt.xlabel('Actual Output')\n",
    "    plt.ylabel('Predicted Output')\n",
    "    plt.axis('equal')\n",
    "    plt.title(title)\n",
    "    plt.tight_layout()    \n",
    "\n",
    "    pred_scatter_plot(y_train, y_train_pred_dtree,'Train Data - Decision Tree Regression' )\n",
    "\n",
    "    pred_scatter_plot(y_test, y_test_pred_dtree,'Test Data - Decision Tree Regression' )"
   ]
  },
  {
   "cell_type": "code",
   "execution_count": null,
   "id": "082cefa0",
   "metadata": {},
   "outputs": [],
   "source": []
  }
 ],
 "metadata": {
  "kernelspec": {
   "display_name": "Python 3",
   "language": "python",
   "name": "python3"
  },
  "language_info": {
   "codemirror_mode": {
    "name": "ipython",
    "version": 3
   },
   "file_extension": ".py",
   "mimetype": "text/x-python",
   "name": "python",
   "nbconvert_exporter": "python",
   "pygments_lexer": "ipython3",
   "version": "3.12.9"
  }
 },
 "nbformat": 4,
 "nbformat_minor": 5
}
