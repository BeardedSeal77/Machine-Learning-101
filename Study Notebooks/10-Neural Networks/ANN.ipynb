{
 "cells": [
  {
   "cell_type": "markdown",
   "id": "81cf2e2e",
   "metadata": {},
   "source": [
    "# ANN"
   ]
  },
  {
   "cell_type": "code",
   "execution_count": 6,
   "id": "6739613c",
   "metadata": {},
   "outputs": [],
   "source": [
    "import numpy as np"
   ]
  },
  {
   "cell_type": "code",
   "execution_count": 7,
   "id": "528eb7a7",
   "metadata": {},
   "outputs": [],
   "source": [
    "def sigmoid(z):\n",
    "    return 1 / (1 + np.exp(-z))"
   ]
  },
  {
   "cell_type": "code",
   "execution_count": 8,
   "id": "038b58cb",
   "metadata": {},
   "outputs": [],
   "source": [
    "x = np.array([[0.05],\n",
    "              [0.10]])\n",
    "y = np.array([0.01])"
   ]
  },
  {
   "cell_type": "code",
   "execution_count": 9,
   "id": "bfc3c5f6",
   "metadata": {},
   "outputs": [],
   "source": [
    "# Input vector (a^{(0)})\n",
    "a_0 = x\n",
    "\n",
    "# Weight matrix for hidden layer (W^{(1)}) – shape (3, 2) \n",
    "# #Would not know these weights ahead of time in a real world application, random numbers initially then adjust them based on results\n",
    "W1 = np.array([[0.15, 0.20],\n",
    "               [0.25, 0.30],\n",
    "               [0.35, 0.40]])\n",
    "\n",
    "# Bias vector for hidden layer (b^{(1)}) – shape (3, 1)\n",
    "b1 = np.array([[0.35],\n",
    "               [0.35],\n",
    "               [0.35]])\n",
    "\n",
    "# Weight matrix for output layer (W^{(2)}) – shape (1, 3)\n",
    "W2 = np.array([[0.40, 0.45, 0.50]])\n",
    "\n",
    "# Bias vector for output layer (b^{(2)}) – shape (1, 1)\n",
    "b2 = np.array([[0.60]])"
   ]
  },
  {
   "cell_type": "markdown",
   "id": "57dab244",
   "metadata": {},
   "source": [
    "## Forward-Pass"
   ]
  },
  {
   "cell_type": "code",
   "execution_count": 10,
   "id": "a4907046",
   "metadata": {},
   "outputs": [],
   "source": [
    "z1 = np.dot(W1, a_0) + b1 # Matrix multiplication using numpy # could also use: z1 = W1 @ a0 + b1 # which is built into python\n",
    "a1 = sigmoid(z1)"
   ]
  },
  {
   "cell_type": "code",
   "execution_count": 11,
   "id": "b6edb3c8",
   "metadata": {},
   "outputs": [],
   "source": [
    "z2 = np.dot(W2, a1) + b2\n",
    "a2 = sigmoid(z2)"
   ]
  },
  {
   "cell_type": "code",
   "execution_count": 12,
   "id": "e5faba41",
   "metadata": {},
   "outputs": [
    {
     "name": "stdout",
     "output_type": "stream",
     "text": [
      "HIDDEN LAYER - Pre-Activations: \n",
      " z1 = \n",
      " [[0.3775]\n",
      " [0.3925]\n",
      " [0.4075]]\n",
      "HIDDEN LAYER - Activations: \n",
      " a1 =  \n",
      " [[0.59326999]\n",
      " [0.59688438]\n",
      " [0.60048827]]\n",
      "OUTPUT LAYER - Pre-activations: \n",
      " z2 = \n",
      " [[1.4061501]]\n",
      "OUTPUT LAYER - Activations: \n",
      " a2 =  \n",
      " [[0.803158]]\n"
     ]
    }
   ],
   "source": [
    "print(f'HIDDEN LAYER - Pre-Activations: \\n z1 = \\n {z1}')\n",
    "print(f'HIDDEN LAYER - Activations: \\n a1 =  \\n {a1}')\n",
    "print(f'OUTPUT LAYER - Pre-activations: \\n z2 = \\n {z2}')\n",
    "print(f'OUTPUT LAYER - Activations: \\n a2 =  \\n {a2}') # network output in this example"
   ]
  },
  {
   "cell_type": "code",
   "execution_count": 13,
   "id": "67cc610e",
   "metadata": {},
   "outputs": [
    {
     "name": "stdout",
     "output_type": "stream",
     "text": [
      "HIDDEN LAYER 1:\n",
      " * Neuron 1:\n",
      "    z = [0.3775]\n",
      "    a = [0.59326999]\n",
      " * Neuron 2:\n",
      "    z = [0.3925]\n",
      "    a = [0.59688438]\n",
      " * Neuron 3:\n",
      "    z = [0.4075]\n",
      "    a = [0.60048827]\n",
      "OUTPUT LAYER 2:\n",
      " * Neuron 1:\n",
      "    z = [1.4061501]\n",
      "    a = [0.803158]\n"
     ]
    }
   ],
   "source": [
    "## Another way to print the output\n",
    "print('HIDDEN LAYER 1:')\n",
    "for n in range(len(z1)):\n",
    "    print(f' * Neuron {n+1}:')\n",
    "    print(f'    z = {z1[n]}')\n",
    "    print(f'    a = {a1[n]}')\n",
    "    \n",
    "print('OUTPUT LAYER 2:')\n",
    "for n in range(len(z2)):\n",
    "    print(f' * Neuron {n+1}:')\n",
    "    print(f'    z = {z2[n]}')\n",
    "    print(f'    a = {a2[n]}')   "
   ]
  },
  {
   "cell_type": "markdown",
   "id": "f3e195d6",
   "metadata": {},
   "source": [
    "### Loss Calculation"
   ]
  },
  {
   "cell_type": "code",
   "execution_count": 14,
   "id": "f883881e",
   "metadata": {},
   "outputs": [
    {
     "name": "stdout",
     "output_type": "stream",
     "text": [
      "Network Output: a2 = [[0.803158]]\n",
      "Desired Output: y = [0.01]\n",
      "Loss (Simple) = 0.3145498095005328\n",
      "Loss (Matrix) = 0.3145498095005328\n"
     ]
    }
   ],
   "source": [
    "print(f'Network Output: a2 = {a2}')\n",
    "print(f'Desired Output: y = {y}')\n",
    "\n",
    "error = a2-y\n",
    "\n",
    "loss_simple = 0.5*(a2-y)**2\n",
    "loss_matrix = 0.5 * np.dot(error.T, error)\n",
    "\n",
    "print(f'Loss (Simple) = {loss_simple.item()}')\n",
    "print(f'Loss (Matrix) = {loss_matrix.item()}')"
   ]
  },
  {
   "cell_type": "markdown",
   "id": "9e8c33f8",
   "metadata": {},
   "source": [
    "## Backward Pass"
   ]
  },
  {
   "cell_type": "code",
   "execution_count": 15,
   "id": "c85a2d34",
   "metadata": {},
   "outputs": [],
   "source": [
    "def sigmoid_derivative(z): # we not be expected to know how to calculate the derivative it will be given\n",
    "    s = sigmoid(z)\n",
    "    return s * (1 - s)"
   ]
  },
  {
   "cell_type": "code",
   "execution_count": 16,
   "id": "e35c3e13",
   "metadata": {},
   "outputs": [
    {
     "name": "stdout",
     "output_type": "stream",
     "text": [
      "Output layer error delta2: [[0.12539449]]\n"
     ]
    }
   ],
   "source": [
    "delta2 = (a2 - y) * sigmoid_derivative(z2)\n",
    "print(\"Output layer error delta2:\", delta2)"
   ]
  },
  {
   "cell_type": "code",
   "execution_count": 17,
   "id": "4a353534",
   "metadata": {},
   "outputs": [
    {
     "name": "stdout",
     "output_type": "stream",
     "text": [
      "Hidden layer error delta1:\n",
      " [[0.01210311]\n",
      " [0.01357722]\n",
      " [0.0150412 ]]\n"
     ]
    }
   ],
   "source": [
    "delta1 = (W2.T @ delta2) * sigmoid_derivative(z1)\n",
    "print(\"Hidden layer error delta1:\\n\", delta1)"
   ]
  },
  {
   "cell_type": "code",
   "execution_count": 18,
   "id": "a0c6d0bf",
   "metadata": {},
   "outputs": [
    {
     "name": "stdout",
     "output_type": "stream",
     "text": [
      "Updated W2:\n",
      " [[0.3496442 0.3996442 0.4496442]]\n",
      "Updated b2:\n",
      " [[0.53730275]]\n",
      "Updated W1:\n",
      " [[0.14969742 0.19939484]\n",
      " [0.24966057 0.29932114]\n",
      " [0.34962397 0.39924794]]\n",
      "Updated b1:\n",
      " [[0.34394844]\n",
      " [0.34321139]\n",
      " [0.3424794 ]]\n"
     ]
    }
   ],
   "source": [
    "eta = 0.5 #chosen by the user\n",
    "\n",
    "#Output layer update\n",
    "W2 = W2 - eta * delta2 @ a2.T      # update weights\n",
    "b2 = b2 - eta * delta2             # update bias\n",
    "#Hidden layer update\n",
    "W1 = W1 - eta * delta1 @ a_0.T      # update weights\n",
    "b1 = b1 - eta * delta1             # update biases\n",
    "\n",
    "\n",
    "print(\"Updated W2:\\n\", W2)\n",
    "print(\"Updated b2:\\n\", b2)\n",
    "print(\"Updated W1:\\n\", W1)\n",
    "print(\"Updated b1:\\n\", b1)"
   ]
  },
  {
   "cell_type": "markdown",
   "id": "4f2c5c78",
   "metadata": {},
   "source": [
    "## Another way to Structure Notebook (Better Way)"
   ]
  },
  {
   "cell_type": "code",
   "execution_count": 19,
   "id": "271eade6",
   "metadata": {},
   "outputs": [],
   "source": [
    "import numpy as np\n",
    "x = np.array([[0.05],\n",
    "              [0.10]])\n",
    "y = np.array([0.01])\n",
    "a0 = x\n",
    " \n",
    "W1 = np.array([[0.15, 0.20],\n",
    "               [0.25, 0.30],\n",
    "               [0.35, 0.40]])\n",
    "b1 = np.array([[0.35],\n",
    "               [0.35],\n",
    "               [0.35]])\n",
    " \n",
    "W2 = np.array([[0.40, 0.45, 0.50]])\n",
    "b2 = np.array([[0.60]])\n",
    " \n",
    "eta = 0.5\n",
    " "
   ]
  },
  {
   "cell_type": "code",
   "execution_count": 20,
   "id": "3f505c9a",
   "metadata": {},
   "outputs": [],
   "source": [
    "def sigmoid(z):\n",
    "    return 1 / (1 + np.exp(-z))\n",
    " \n",
    "def sigmoid_derivative(z):\n",
    "    s = sigmoid(z)\n",
    "    return s * (1 - s)"
   ]
  },
  {
   "cell_type": "code",
   "execution_count": 27,
   "id": "0165662d",
   "metadata": {},
   "outputs": [
    {
     "name": "stdout",
     "output_type": "stream",
     "text": [
      "Loss: [[0.21627497]] & Output: [[0.66768528]]\n"
     ]
    }
   ],
   "source": [
    "# Only re-run ONLY this cell to see how the algorithm improves over different passes (epoch(s))\n",
    "# 1. FORWARD PASS\n",
    "z1 = W1 @ x + b1\n",
    "a1 = sigmoid(z1)\n",
    "z2 = W2 @ a1 + b2\n",
    "a2 = sigmoid(z2)\n",
    " \n",
    "# 2. CALCULATE LOSS\n",
    "error = a2-y\n",
    "loss = 0.5 * error.T @ error\n",
    " \n",
    "# 3. BACKWARD PASS\n",
    "delta2 = (a2 - y) * sigmoid_derivative(z2)\n",
    "delta1 = (W2.T @ delta2) * sigmoid_derivative(z1)\n",
    " \n",
    "W2 = W2 - eta * delta2 @ a1.T      \n",
    "b2 = b2 - eta * delta2                    \n",
    "W1 = W1 - eta * delta1 @ a0.T     \n",
    "b1 = b1 - eta * delta1   \n",
    " \n",
    "print(f'Loss: {loss} & Output: {a2}')"
   ]
  }
 ],
 "metadata": {
  "kernelspec": {
   "display_name": "Python 3",
   "language": "python",
   "name": "python3"
  },
  "language_info": {
   "codemirror_mode": {
    "name": "ipython",
    "version": 3
   },
   "file_extension": ".py",
   "mimetype": "text/x-python",
   "name": "python",
   "nbconvert_exporter": "python",
   "pygments_lexer": "ipython3",
   "version": "3.12.9"
  }
 },
 "nbformat": 4,
 "nbformat_minor": 5
}
