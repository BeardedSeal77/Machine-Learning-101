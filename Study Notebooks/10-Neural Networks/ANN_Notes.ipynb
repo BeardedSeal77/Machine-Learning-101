{
 "cells": [
  {
   "cell_type": "markdown",
   "id": "b98d50d6",
   "metadata": {},
   "source": [
    "# ANN \n",
    "\n",
    "A neural network is a machine learning model inspired by the structure and function of the human brain. It's a collection of interconnected nodes or \"neurons\" that process and transmit information.\n",
    "\n",
    "\n",
    "##### Input Layer: \n",
    "\n",
    "The input layer is where the network receives input data, like images or text\n",
    "\n",
    "##### Hidden Layer:\n",
    "\n",
    "The input data flows through one or more hidden layers, where complex representations are built through calculations and transformations.\n",
    "\n",
    "##### Output Layer: \n",
    "\n",
    "The output layer generates the final prediction or classification from the ANN.\n",
    "\n",
    "\n",
    "\n",
    "##### Inputs & Weights: \n",
    "\n",
    "Each neuron receives weighted input from a previous layer:\n",
    "\n",
    "o Inputs: A neuron will receive NN inputs, x1,x2,...,xN, from a previous layer.\n",
    "\n",
    "o Weights: Each input has NN input parameter weights, w1,w2,...,wN."
   ]
  }
 ],
 "metadata": {
  "language_info": {
   "name": "python"
  }
 },
 "nbformat": 4,
 "nbformat_minor": 5
}
