{
 "cells": [
  {
   "cell_type": "markdown",
   "id": "75c9472c",
   "metadata": {},
   "source": [
    "# Multiple Linear Regression\n",
    "\n",
    "technique used to model the relationship between a continuous dependent variable and two or more independent variables. It as an extension of simple linear regression, which deals with only one independent variable. The fitting (or regression) process aims to create a hyperplane to model the data.\n",
    "\n",
    "\n",
    "# Polynomial Regression \n",
    "\n",
    " builds on the concepts of simple linear regression to handle non-linear relationships between variables. If the datapoints do not follow a linear relationship, a polynomial model may often be more suitable:\n",
    "\n",
    "\n",
    " ## Over and Under Fitting\n",
    "\n",
    " <div>\n",
    "    <img src=\"../src/images/OverandUnderfitting.png\" width=\"600\">\n",
    "</div>"
   ]
  }
 ],
 "metadata": {
  "language_info": {
   "name": "python"
  }
 },
 "nbformat": 4,
 "nbformat_minor": 5
}
