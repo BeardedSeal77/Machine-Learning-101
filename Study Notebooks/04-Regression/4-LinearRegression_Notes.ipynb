{
 "cells": [
  {
   "cell_type": "markdown",
   "id": "8ac93b1d",
   "metadata": {},
   "source": [
    "# Linear Regression"
   ]
  },
  {
   "cell_type": "markdown",
   "id": "d8f1b9a5",
   "metadata": {},
   "source": [
    "This is the foundation of regression, it fits a straight line to model the\n",
    "relationship between the independent and dependent variables. It is suitable for\n",
    "understanding linear relationships but can't capture more complex relationships (which\n",
    "is more common in real world problems). It's usually a good starting point\n",
    "\n",
    "\n",
    "## Approaches \n",
    "\n",
    "Ordinary Least Squares Regression: Ordinary Least Squares:\n",
    "method for finding the best-fitting straight line through a et of data points. OLS achieves this by minimizing the sum of the squared differences between the actual values (the data points) and the predicted values from the fitted line\n",
    "\n",
    "Decision Tree Regression:\n",
    "Splits the data based on decision rules to create a tree-like\n",
    "structure for prediction. Easy to interpret but might not be the most accurate for\n",
    "complex problems.\n",
    "\n",
    "Random Forest Regression:\n",
    "Combines multiple decision trees for improved accuracy and handles non-linearity. More robust than a single decision tree but can be less interpretable.\n",
    "\n",
    "Support Vector Machine Regression (SVR):\n",
    "Focuses on finding a hyperplane that minimizes the distance between the data points and the plane while keeping outliers in check. Useful for high-dimensional data.\n",
    "\n",
    "Ridge Regression & Lasso Regression:\n",
    "Regularization techniques used to address multicollinearity (when predictor variables are highly correlated). Ridge regression adds a penalty term to reduce the coefficients of all variables, while Lasso regression performs variable selection on top of shrinkage.\n",
    "\n",
    "Bayesian Linear Regression:\n",
    "Incorporates prior beliefs about the model parameters to potentially improve predictions, especially with limited data.\n",
    "\n",
    "\n",
    "## Bias vs Precision\n",
    "\n",
    "<div>\n",
    "    <img src=\"../src/images/Bias.png\" width=\"300\">\n",
    "</div>"
   ]
  }
 ],
 "metadata": {
  "language_info": {
   "name": "python"
  }
 },
 "nbformat": 4,
 "nbformat_minor": 5
}
