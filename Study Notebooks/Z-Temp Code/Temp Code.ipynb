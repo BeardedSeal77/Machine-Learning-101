{
 "cells": [
  {
   "cell_type": "markdown",
   "id": "38b427eb",
   "metadata": {},
   "source": [
    "Table Creation"
   ]
  },
  {
   "cell_type": "code",
   "execution_count": null,
   "id": "5ece5fd4",
   "metadata": {},
   "outputs": [
    {
     "data": {
      "text/html": [
       "<style type=\"text/css\">\n",
       "#T_1d8b7 th {\n",
       "  text-align: left;\n",
       "}\n",
       "#T_1d8b7_row0_col0, #T_1d8b7_row0_col1, #T_1d8b7_row0_col2, #T_1d8b7_row0_col3, #T_1d8b7_row1_col0, #T_1d8b7_row1_col1, #T_1d8b7_row1_col2, #T_1d8b7_row1_col3, #T_1d8b7_row2_col0, #T_1d8b7_row2_col1, #T_1d8b7_row2_col2, #T_1d8b7_row2_col3, #T_1d8b7_row3_col0, #T_1d8b7_row3_col1, #T_1d8b7_row3_col2, #T_1d8b7_row3_col3, #T_1d8b7_row4_col0, #T_1d8b7_row4_col1, #T_1d8b7_row4_col2, #T_1d8b7_row4_col3 {\n",
       "  text-align: left;\n",
       "}\n",
       "</style>\n",
       "<table id=\"T_1d8b7\">\n",
       "  <thead>\n",
       "    <tr>\n",
       "      <th class=\"blank level0\" >&nbsp;</th>\n",
       "      <th id=\"T_1d8b7_level0_col0\" class=\"col_heading level0 col0\" >Method</th>\n",
       "      <th id=\"T_1d8b7_level0_col1\" class=\"col_heading level0 col1\" >Formula / Tool</th>\n",
       "      <th id=\"T_1d8b7_level0_col2\" class=\"col_heading level0 col2\" >Handles Zeros?</th>\n",
       "      <th id=\"T_1d8b7_level0_col3\" class=\"col_heading level0 col3\" >Comment</th>\n",
       "    </tr>\n",
       "  </thead>\n",
       "  <tbody>\n",
       "    <tr>\n",
       "      <th id=\"T_1d8b7_level0_row0\" class=\"row_heading level0 row0\" >0</th>\n",
       "      <td id=\"T_1d8b7_row0_col0\" class=\"data row0 col0\" >Log1p (Natural log + 1)</td>\n",
       "      <td id=\"T_1d8b7_row0_col1\" class=\"data row0 col1\" >np.log1p(x) = log(1 + x)</td>\n",
       "      <td id=\"T_1d8b7_row0_col2\" class=\"data row0 col2\" >yes</td>\n",
       "      <td id=\"T_1d8b7_row0_col3\" class=\"data row0 col3\" >Handles zeros and negative values</td>\n",
       "    </tr>\n",
       "    <tr>\n",
       "      <th id=\"T_1d8b7_level0_row1\" class=\"row_heading level0 row1\" >1</th>\n",
       "      <td id=\"T_1d8b7_row1_col0\" class=\"data row1 col0\" >Box-Cox (Scikit-Learn)</td>\n",
       "      <td id=\"T_1d8b7_row1_col1\" class=\"data row1 col1\" >PowerTransformer(method='box-cox')</td>\n",
       "      <td id=\"T_1d8b7_row1_col2\" class=\"data row1 col2\" > \tNo (requires x > 0)</td>\n",
       "      <td id=\"T_1d8b7_row1_col3\" class=\"data row1 col3\" >Requires positive values, can be shifted</td>\n",
       "    </tr>\n",
       "    <tr>\n",
       "      <th id=\"T_1d8b7_level0_row2\" class=\"row_heading level0 row2\" >2</th>\n",
       "      <td id=\"T_1d8b7_row2_col0\" class=\"data row2 col0\" >Yeo-Johnson (Scikit-Learn)</td>\n",
       "      <td id=\"T_1d8b7_row2_col1\" class=\"data row2 col1\" >PowerTransformer(method='yeo-johnson')</td>\n",
       "      <td id=\"T_1d8b7_row2_col2\" class=\"data row2 col2\" >yes</td>\n",
       "      <td id=\"T_1d8b7_row2_col3\" class=\"data row2 col3\" >Handles zeros and negative values</td>\n",
       "    </tr>\n",
       "    <tr>\n",
       "      <th id=\"T_1d8b7_level0_row3\" class=\"row_heading level0 row3\" >3</th>\n",
       "      <td id=\"T_1d8b7_row3_col0\" class=\"data row3 col0\" >Custom log(x + ε)</td>\n",
       "      <td id=\"T_1d8b7_row3_col1\" class=\"data row3 col1\" >np.log(x + 1e-6)</td>\n",
       "      <td id=\"T_1d8b7_row3_col2\" class=\"data row3 col2\" >yes</td>\n",
       "      <td id=\"T_1d8b7_row3_col3\" class=\"data row3 col3\" >Customizable epsilon value</td>\n",
       "    </tr>\n",
       "    <tr>\n",
       "      <th id=\"T_1d8b7_level0_row4\" class=\"row_heading level0 row4\" >4</th>\n",
       "      <td id=\"T_1d8b7_row4_col0\" class=\"data row4 col0\" >QuantileTransformer</td>\n",
       "      <td id=\"T_1d8b7_row4_col1\" class=\"data row4 col1\" >QuantileTransformer(output_distribution='normal')</td>\n",
       "      <td id=\"T_1d8b7_row4_col2\" class=\"data row4 col2\" >yes</td>\n",
       "      <td id=\"T_1d8b7_row4_col3\" class=\"data row4 col3\" >Transforms to normal distribution, Smooths heavy tails; robust to outliers and zero values</td>\n",
       "    </tr>\n",
       "  </tbody>\n",
       "</table>\n"
      ],
      "text/plain": [
       "<pandas.io.formats.style.Styler at 0x1ad3e3d7fd0>"
      ]
     },
     "execution_count": 1,
     "metadata": {},
     "output_type": "execute_result"
    }
   ],
   "source": [
    "import pandas as pd\n",
    "\n",
    "# Define the data\n",
    "data = {\n",
    "    \"col1\": [\n",
    "        \"\",\n",
    "        \"\",\n",
    "        \"\",\n",
    "        \"\",\n",
    "        \"\"\n",
    "        ],\n",
    "    \"col2\": [\n",
    "        \"\",\n",
    "        \"\",\n",
    "        \"\",\n",
    "        \"\",\n",
    "        \"\"\n",
    "        ],\n",
    "    \"col3\": [\n",
    "        \"\",\n",
    "        \"\",\n",
    "        \"\",\n",
    "        \"\",\n",
    "        \"\"\n",
    "        ],\n",
    "}\n",
    "\n",
    "# Create a DataFrame\n",
    "df = pd.DataFrame(data)\n",
    "\n",
    "# Display the table\n",
    "df.style.set_properties(**{'text-align': 'left'}).set_table_styles(\n",
    "    [{'selector': 'th', 'props': [('text-align', 'left')]}]\n",
    ")"
   ]
  }
 ],
 "metadata": {
  "kernelspec": {
   "display_name": "Python 3",
   "language": "python",
   "name": "python3"
  },
  "language_info": {
   "codemirror_mode": {
    "name": "ipython",
    "version": 3
   },
   "file_extension": ".py",
   "mimetype": "text/x-python",
   "name": "python",
   "nbconvert_exporter": "python",
   "pygments_lexer": "ipython3",
   "version": "3.11.9"
  }
 },
 "nbformat": 4,
 "nbformat_minor": 5
}
