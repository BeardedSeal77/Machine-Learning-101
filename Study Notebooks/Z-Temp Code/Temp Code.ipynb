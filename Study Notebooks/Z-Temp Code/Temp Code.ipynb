{
 "cells": [
  {
   "cell_type": "markdown",
   "id": "38b427eb",
   "metadata": {},
   "source": [
    "Table Creation"
   ]
  },
  {
   "cell_type": "code",
   "execution_count": 1,
   "id": "5ece5fd4",
   "metadata": {},
   "outputs": [
    {
     "data": {
      "text/html": [
       "<style type=\"text/css\">\n",
       "#T_0d664 th {\n",
       "  text-align: left;\n",
       "}\n",
       "#T_0d664_row0_col0, #T_0d664_row0_col1, #T_0d664_row0_col2, #T_0d664_row1_col0, #T_0d664_row1_col1, #T_0d664_row1_col2, #T_0d664_row2_col0, #T_0d664_row2_col1, #T_0d664_row2_col2, #T_0d664_row3_col0, #T_0d664_row3_col1, #T_0d664_row3_col2, #T_0d664_row4_col0, #T_0d664_row4_col1, #T_0d664_row4_col2 {\n",
       "  text-align: left;\n",
       "}\n",
       "</style>\n",
       "<table id=\"T_0d664\">\n",
       "  <thead>\n",
       "    <tr>\n",
       "      <th class=\"blank level0\" >&nbsp;</th>\n",
       "      <th id=\"T_0d664_level0_col0\" class=\"col_heading level0 col0\" >col1</th>\n",
       "      <th id=\"T_0d664_level0_col1\" class=\"col_heading level0 col1\" >col2</th>\n",
       "      <th id=\"T_0d664_level0_col2\" class=\"col_heading level0 col2\" >col3</th>\n",
       "    </tr>\n",
       "  </thead>\n",
       "  <tbody>\n",
       "    <tr>\n",
       "      <th id=\"T_0d664_level0_row0\" class=\"row_heading level0 row0\" >0</th>\n",
       "      <td id=\"T_0d664_row0_col0\" class=\"data row0 col0\" ></td>\n",
       "      <td id=\"T_0d664_row0_col1\" class=\"data row0 col1\" ></td>\n",
       "      <td id=\"T_0d664_row0_col2\" class=\"data row0 col2\" ></td>\n",
       "    </tr>\n",
       "    <tr>\n",
       "      <th id=\"T_0d664_level0_row1\" class=\"row_heading level0 row1\" >1</th>\n",
       "      <td id=\"T_0d664_row1_col0\" class=\"data row1 col0\" ></td>\n",
       "      <td id=\"T_0d664_row1_col1\" class=\"data row1 col1\" ></td>\n",
       "      <td id=\"T_0d664_row1_col2\" class=\"data row1 col2\" ></td>\n",
       "    </tr>\n",
       "    <tr>\n",
       "      <th id=\"T_0d664_level0_row2\" class=\"row_heading level0 row2\" >2</th>\n",
       "      <td id=\"T_0d664_row2_col0\" class=\"data row2 col0\" ></td>\n",
       "      <td id=\"T_0d664_row2_col1\" class=\"data row2 col1\" ></td>\n",
       "      <td id=\"T_0d664_row2_col2\" class=\"data row2 col2\" ></td>\n",
       "    </tr>\n",
       "    <tr>\n",
       "      <th id=\"T_0d664_level0_row3\" class=\"row_heading level0 row3\" >3</th>\n",
       "      <td id=\"T_0d664_row3_col0\" class=\"data row3 col0\" ></td>\n",
       "      <td id=\"T_0d664_row3_col1\" class=\"data row3 col1\" ></td>\n",
       "      <td id=\"T_0d664_row3_col2\" class=\"data row3 col2\" ></td>\n",
       "    </tr>\n",
       "    <tr>\n",
       "      <th id=\"T_0d664_level0_row4\" class=\"row_heading level0 row4\" >4</th>\n",
       "      <td id=\"T_0d664_row4_col0\" class=\"data row4 col0\" ></td>\n",
       "      <td id=\"T_0d664_row4_col1\" class=\"data row4 col1\" ></td>\n",
       "      <td id=\"T_0d664_row4_col2\" class=\"data row4 col2\" ></td>\n",
       "    </tr>\n",
       "  </tbody>\n",
       "</table>\n"
      ],
      "text/plain": [
       "<pandas.io.formats.style.Styler at 0x28fcb5062d0>"
      ]
     },
     "execution_count": 1,
     "metadata": {},
     "output_type": "execute_result"
    }
   ],
   "source": [
    "import pandas as pd\n",
    "\n",
    "# Define the data\n",
    "data = {\n",
    "    \"col1\": [\n",
    "        \"\",\n",
    "        \"\",\n",
    "        \"\",\n",
    "        \"\",\n",
    "        \"\"\n",
    "        ],\n",
    "    \"col2\": [\n",
    "        \"\",\n",
    "        \"\",\n",
    "        \"\",\n",
    "        \"\",\n",
    "        \"\"\n",
    "        ],\n",
    "    \"col3\": [\n",
    "        \"\",\n",
    "        \"\",\n",
    "        \"\",\n",
    "        \"\",\n",
    "        \"\"\n",
    "        ],\n",
    "}\n",
    "\n",
    "# Create a DataFrame\n",
    "df = pd.DataFrame(data)\n",
    "\n",
    "# Display the table\n",
    "df.style.set_properties(**{'text-align': 'left'}).set_table_styles(\n",
    "    [{'selector': 'th', 'props': [('text-align', 'left')]}]\n",
    ")"
   ]
  }
 ],
 "metadata": {
  "kernelspec": {
   "display_name": "Python 3",
   "language": "python",
   "name": "python3"
  },
  "language_info": {
   "codemirror_mode": {
    "name": "ipython",
    "version": 3
   },
   "file_extension": ".py",
   "mimetype": "text/x-python",
   "name": "python",
   "nbconvert_exporter": "python",
   "pygments_lexer": "ipython3",
   "version": "3.11.9"
  }
 },
 "nbformat": 4,
 "nbformat_minor": 5
}
