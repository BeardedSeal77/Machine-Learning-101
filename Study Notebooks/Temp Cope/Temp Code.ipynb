{
 "cells": [
  {
   "cell_type": "markdown",
   "id": "38b427eb",
   "metadata": {},
   "source": [
    "Table Creation"
   ]
  },
  {
   "cell_type": "code",
   "execution_count": 1,
   "id": "5ece5fd4",
   "metadata": {},
   "outputs": [
    {
     "data": {
      "text/html": [
       "<style type=\"text/css\">\n",
       "#T_c047b th {\n",
       "  text-align: left;\n",
       "}\n",
       "#T_c047b_row0_col0, #T_c047b_row0_col1, #T_c047b_row1_col0, #T_c047b_row1_col1, #T_c047b_row2_col0, #T_c047b_row2_col1 {\n",
       "  text-align: left;\n",
       "}\n",
       "</style>\n",
       "<table id=\"T_c047b\">\n",
       "  <thead>\n",
       "    <tr>\n",
       "      <th class=\"blank level0\" >&nbsp;</th>\n",
       "      <th id=\"T_c047b_level0_col0\" class=\"col_heading level0 col0\" >Skewness Value</th>\n",
       "      <th id=\"T_c047b_level0_col1\" class=\"col_heading level0 col1\" >Interpretation</th>\n",
       "    </tr>\n",
       "  </thead>\n",
       "  <tbody>\n",
       "    <tr>\n",
       "      <th id=\"T_c047b_level0_row0\" class=\"row_heading level0 row0\" >0</th>\n",
       "      <td id=\"T_c047b_row0_col0\" class=\"data row0 col0\" >≈0</td>\n",
       "      <td id=\"T_c047b_row0_col1\" class=\"data row0 col1\" >Symmetric (normal)</td>\n",
       "    </tr>\n",
       "    <tr>\n",
       "      <th id=\"T_c047b_level0_row1\" class=\"row_heading level0 row1\" >1</th>\n",
       "      <td id=\"T_c047b_row1_col0\" class=\"data row1 col0\" >>0</td>\n",
       "      <td id=\"T_c047b_row1_col1\" class=\"data row1 col1\" >Right-skewed (positive skew)</td>\n",
       "    </tr>\n",
       "    <tr>\n",
       "      <th id=\"T_c047b_level0_row2\" class=\"row_heading level0 row2\" >2</th>\n",
       "      <td id=\"T_c047b_row2_col0\" class=\"data row2 col0\" ><0</td>\n",
       "      <td id=\"T_c047b_row2_col1\" class=\"data row2 col1\" >Left-skewed (negative skew)</td>\n",
       "    </tr>\n",
       "  </tbody>\n",
       "</table>\n"
      ],
      "text/plain": [
       "<pandas.io.formats.style.Styler at 0x1a5a43b2e10>"
      ]
     },
     "execution_count": 1,
     "metadata": {},
     "output_type": "execute_result"
    }
   ],
   "source": [
    "import pandas as pd\n",
    "\n",
    "# Define the data\n",
    "data = {\n",
    "    \"Skewness Value\": [\"≈0\", \">0\", \"<0\"],\n",
    "    \"Interpretation\": [\n",
    "        \"Symmetric (normal)\",\n",
    "        \"Right-skewed (positive skew)\",\n",
    "        \"Left-skewed (negative skew)\"\n",
    "    ]\n",
    "}\n",
    "\n",
    "# Create a DataFrame\n",
    "df = pd.DataFrame(data)\n",
    "\n",
    "# Display the table\n",
    "df.style.set_properties(**{'text-align': 'left'}).set_table_styles(\n",
    "    [{'selector': 'th', 'props': [('text-align', 'left')]}]\n",
    ")"
   ]
  }
 ],
 "metadata": {
  "kernelspec": {
   "display_name": "Python 3",
   "language": "python",
   "name": "python3"
  },
  "language_info": {
   "codemirror_mode": {
    "name": "ipython",
    "version": 3
   },
   "file_extension": ".py",
   "mimetype": "text/x-python",
   "name": "python",
   "nbconvert_exporter": "python",
   "pygments_lexer": "ipython3",
   "version": "3.11.9"
  }
 },
 "nbformat": 4,
 "nbformat_minor": 5
}
