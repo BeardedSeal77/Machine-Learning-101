{
 "cells": [
  {
   "cell_type": "markdown",
   "id": "6cc50db8",
   "metadata": {},
   "source": [
    "# SVM\n",
    "\n",
    "powerful collection of supervised learning algorithms for classification, regression and outlier detection tasks\n",
    "\n",
    "excels at finding the best separation line, called a hyperplane\n",
    "\n",
    "well-suited for complex classification problems, especially when dealing with smaller datasets\n",
    "\n",
    "## Strengths \n",
    "\n",
    "• Effective for Complex Data: SVMs can handle high-dimensional data and perform well on complex classification problems.\n",
    "\n",
    "• Good Generalizability: By maximizing the margin, SVMs tend to perform well on unseen data, reducing the risk of overfitting.\n",
    "\n",
    "\n",
    "# Limitations\n",
    "\n",
    "• Computational Cost: Training SVMs can be computationally expensive, especially for large datasets.\n",
    "\n",
    "• Tuning Parameters: SVMs involve parameters that need to be tuned for optimal performance, which can require some experimentation."
   ]
  }
 ],
 "metadata": {
  "language_info": {
   "name": "python"
  }
 },
 "nbformat": 4,
 "nbformat_minor": 5
}
